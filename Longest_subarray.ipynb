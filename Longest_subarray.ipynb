{
  "nbformat": 4,
  "nbformat_minor": 0,
  "metadata": {
    "colab": {
      "name": "Longest_subarray.ipynb",
      "provenance": [],
      "collapsed_sections": [],
      "authorship_tag": "ABX9TyPlKLAKSbOuiOQblb+A7uWC",
      "include_colab_link": true
    },
    "kernelspec": {
      "name": "python3",
      "display_name": "Python 3"
    }
  },
  "cells": [
    {
      "cell_type": "markdown",
      "metadata": {
        "id": "view-in-github",
        "colab_type": "text"
      },
      "source": [
        "<a href=\"https://colab.research.google.com/github/splunk/mltk-algo-contrib/blob/master/Longest_subarray.ipynb\" target=\"_parent\"><img src=\"https://colab.research.google.com/assets/colab-badge.svg\" alt=\"Open In Colab\"/></a>"
      ]
    },
    {
      "cell_type": "code",
      "metadata": {
        "id": "dDbj8HafDUmK",
        "colab_type": "code",
        "colab": {}
      },
      "source": [
        "def longest_subarray(a, D):\n",
        "  if len(a) <= 1:\n",
        "    return len(a)\n",
        "  if D < 0:\n",
        "    return 1\n",
        "\n",
        "  max_len = 1\n",
        "  i = 0\n",
        "  j = 1\n",
        "  cur_min = a[i]\n",
        "  cur_max = cur_min\n",
        "  while j < len(a):\n",
        "    cur_min = min(cur_min, a[j])\n",
        "    cur_max = max(cur_max, a[j])\n",
        "    if cur_max <= cur_min + D:\n",
        "      j += 1\n",
        "    else: \n",
        "      max_len = max(j - i, max_len)\n",
        "      # cur_max - cur_min > D\n",
        "      # find the correct index i (the start of the next good subarray)\n",
        "      cur_min = a[j]\n",
        "      cur_max = cur_min \n",
        "      i = j - 1\n",
        "      while i >= 0:\n",
        "        new_min = min(a[i], cur_min)\n",
        "        new_max = max(a[i], cur_max)\n",
        "        if new_max <= new_min + D:\n",
        "          cur_min, cur_max = new_min, new_max\n",
        "          i -= 1\n",
        "        else:\n",
        "          i += 1\n",
        "          break\n",
        "      j += 1\n",
        "  \n",
        "  return max(max_len, j - i)"
      ],
      "execution_count": null,
      "outputs": []
    },
    {
      "cell_type": "code",
      "metadata": {
        "id": "YZhuvbq4SF_O",
        "colab_type": "code",
        "colab": {
          "base_uri": "https://localhost:8080/",
          "height": 34
        },
        "outputId": "1757dbda-fea9-4dd0-f73b-d0e10d068184"
      },
      "source": [
        "a = [2, 1, 3, 4, 5]\n",
        "D = 4\n",
        "longest_subarray(a,D)"
      ],
      "execution_count": null,
      "outputs": [
        {
          "output_type": "execute_result",
          "data": {
            "text/plain": [
              "5"
            ]
          },
          "metadata": {
            "tags": []
          },
          "execution_count": 14
        }
      ]
    },
    {
      "cell_type": "code",
      "metadata": {
        "id": "2D2CJpBvSPpw",
        "colab_type": "code",
        "colab": {
          "base_uri": "https://localhost:8080/",
          "height": 153
        },
        "outputId": "001d3b8b-236a-4228-f3dc-131843277988"
      },
      "source": [
        "a = list(range(1, 7))\n",
        "print(f\"a = {a}\")\n",
        "for D in range(7):\n",
        "  print(f\"D = {D}, max_len = {longest_subarray(a,D)}\")"
      ],
      "execution_count": null,
      "outputs": [
        {
          "output_type": "stream",
          "text": [
            "a = [1, 2, 3, 4, 5, 6]\n",
            "D = 0, max_len = 1\n",
            "D = 1, max_len = 2\n",
            "D = 2, max_len = 3\n",
            "D = 3, max_len = 4\n",
            "D = 4, max_len = 5\n",
            "D = 5, max_len = 6\n",
            "D = 6, max_len = 6\n"
          ],
          "name": "stdout"
        }
      ]
    },
    {
      "cell_type": "code",
      "metadata": {
        "id": "zZhB1ITITijM",
        "colab_type": "code",
        "colab": {}
      },
      "source": [
        ""
      ],
      "execution_count": null,
      "outputs": []
    }
  ]
}